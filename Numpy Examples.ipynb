{
 "cells": [
  {
   "cell_type": "code",
   "execution_count": 10,
   "id": "c8821f8a",
   "metadata": {},
   "outputs": [
    {
     "name": "stdout",
     "output_type": "stream",
     "text": [
      "<class 'numpy.ndarray'>\n",
      "[1 2 3 4 5]\n",
      "(5,)\n",
      "5\n",
      "1\n",
      "int32\n",
      "Sum: 15\n",
      "max: 5\n",
      "min: 1\n",
      "Enter element for search4\n",
      "Found\n"
     ]
    }
   ],
   "source": [
    "# Creating Numpy Array using list with array() function\n",
    "import numpy as np\n",
    "myarray=np.array([1,2,3,4,5])\n",
    "print(type(myarray))\n",
    "print(myarray)\n",
    "print(myarray.shape)\n",
    "print(myarray.size)\n",
    "print(myarray.ndim)\n",
    "print(myarray.dtype)\n",
    "sum=0\n",
    "for i in myarray:\n",
    "    sum=sum+i\n",
    "print(\"Sum:\",sum)\n",
    "print(\"max:\",max(myarray))\n",
    "print(\"min:\",min(myarray))\n",
    "n=int(input(\"Enter element for search\"))\n",
    "if n in myarray:\n",
    "    print(\"Found\")\n",
    "else:\n",
    "    print(\"not found\")\n"
   ]
  },
  {
   "cell_type": "code",
   "execution_count": null,
   "id": "32af8c27",
   "metadata": {},
   "outputs": [],
   "source": []
  },
  {
   "cell_type": "code",
   "execution_count": 9,
   "id": "789084ef",
   "metadata": {},
   "outputs": [
    {
     "name": "stdout",
     "output_type": "stream",
     "text": [
      "<class 'numpy.ndarray'>\n",
      "['1' 'k' '3' '4.7' '5']\n"
     ]
    }
   ],
   "source": [
    "import numpy as np\n",
    "myarray=np.array([1,\"k\",3,4.7,5])\n",
    "print(type(myarray))\n",
    "print(myarray)"
   ]
  },
  {
   "cell_type": "code",
   "execution_count": 5,
   "id": "aa9eb832",
   "metadata": {},
   "outputs": [
    {
     "name": "stdout",
     "output_type": "stream",
     "text": [
      "<class 'numpy.ndarray'>\n",
      "[1 2 3 4 5]\n",
      "(5,)\n"
     ]
    }
   ],
   "source": [
    "# Creating Numpy Array using tuple with array() function\n",
    "import numpy as np\n",
    "myarray=np.array((1,2,3,4,5))\n",
    "print(type(myarray))\n",
    "print(myarray)\n",
    "print(myarray.shape)"
   ]
  },
  {
   "cell_type": "code",
   "execution_count": 14,
   "id": "13de53cc",
   "metadata": {},
   "outputs": [
    {
     "name": "stdout",
     "output_type": "stream",
     "text": [
      "Shape: (2, 3)\n",
      "Size: 6\n",
      "Dimension: 2\n",
      "Elements type: int32\n"
     ]
    }
   ],
   "source": [
    "# Creating 2-D Array using list with array() function\n",
    "import numpy as np\n",
    "myarray2=np.array([[1,2,3],[4,5,6]])\n",
    "print(\"Shape:\",myarray2.shape)\n",
    "print(\"Size:\",myarray2.size)\n",
    "print(\"Dimension:\",myarray2.ndim)\n",
    "print(\"Elements type:\",myarray2.dtype)"
   ]
  },
  {
   "cell_type": "code",
   "execution_count": 15,
   "id": "5a3e8b29",
   "metadata": {},
   "outputs": [
    {
     "name": "stdout",
     "output_type": "stream",
     "text": [
      "Shape: (2, 2, 3)\n",
      "Size: 12\n",
      "Dimension: 3\n",
      "Elements type: int32\n"
     ]
    }
   ],
   "source": [
    "# Creating 3-D Array using list with array() function\n",
    "import numpy as np\n",
    "myarray2=np.array([[[1,2,3],[4,5,6]],[[1,1,1],[2,2,2]]])\n",
    "print(\"Shape:\",myarray2.shape)\n",
    "print(\"Size:\",myarray2.size)\n",
    "print(\"Dimension:\",myarray2.ndim)\n",
    "print(\"Elements type:\",myarray2.dtype)"
   ]
  },
  {
   "cell_type": "code",
   "execution_count": 18,
   "id": "dae1eb29",
   "metadata": {},
   "outputs": [
    {
     "name": "stdout",
     "output_type": "stream",
     "text": [
      "[[[[[1 2 3 4]]]]]\n",
      "Shape: (1, 1, 1, 1, 4)\n",
      "Size: 4\n",
      "Dimension: 5\n",
      "Elements type: int32\n"
     ]
    }
   ],
   "source": [
    "#define the number of dimensions by using the ndmin argument.\n",
    "myarray3=np.array([1,2,3,4],ndmin=5)\n",
    "print(myarray3)\n",
    "print(\"Shape:\",myarray3.shape)\n",
    "print(\"Size:\",myarray3.size)\n",
    "print(\"Dimension:\",myarray3.ndim)\n",
    "print(\"Elements type:\",myarray3.dtype)"
   ]
  },
  {
   "cell_type": "code",
   "execution_count": 2,
   "id": "e5f00b02",
   "metadata": {},
   "outputs": [
    {
     "name": "stdout",
     "output_type": "stream",
     "text": [
      "[1 3 5 7 9]\n",
      "Shape: (5,)\n",
      "Size: 5\n",
      "Dimension: 1\n",
      "Elements type: int32\n"
     ]
    }
   ],
   "source": [
    "# Using arange() function to create a Numpy array\n",
    "import numpy as np\n",
    "myarray4=np.arange(1,11,2)\n",
    "print(myarray4)\n",
    "print(\"Shape:\",myarray4.shape)\n",
    "print(\"Size:\",myarray4.size)\n",
    "print(\"Dimension:\",myarray4.ndim)\n",
    "print(\"Elements type:\",myarray4.dtype)"
   ]
  },
  {
   "cell_type": "code",
   "execution_count": 2,
   "id": "cf075acb",
   "metadata": {},
   "outputs": [
    {
     "name": "stdout",
     "output_type": "stream",
     "text": [
      "[[3 4]\n",
      " [3 5]\n",
      " [3 6]]\n"
     ]
    }
   ],
   "source": [
    "import numpy as np\n",
    "arr1=np.array([[1,2],[1,3],[1,4]])\n",
    "arr2=np.array([[2,2],[2,2],[2,2]])\n",
    "arr3=np.add(arr1,arr2)\n",
    "print(arr3)"
   ]
  },
  {
   "cell_type": "code",
   "execution_count": 39,
   "id": "9a96245e",
   "metadata": {},
   "outputs": [
    {
     "name": "stdout",
     "output_type": "stream",
     "text": [
      "[[0 0]\n",
      " [0 0]\n",
      " [0 0]]\n",
      "Shape: (3, 2)\n",
      "Size: 6\n",
      "Dimension: 2\n",
      "Elements type: int32\n"
     ]
    }
   ],
   "source": [
    "import numpy as np\n",
    "myarray6=np.zeros([3,2],dtype=int)\n",
    "print(myarray6)\n",
    "print(\"Shape:\",myarray6.shape)\n",
    "print(\"Size:\",myarray6.size)\n",
    "print(\"Dimension:\",myarray6.ndim)\n",
    "print(\"Elements type:\",myarray6.dtype)"
   ]
  },
  {
   "cell_type": "code",
   "execution_count": 42,
   "id": "9dd6fbfd",
   "metadata": {},
   "outputs": [
    {
     "name": "stdout",
     "output_type": "stream",
     "text": [
      "[[1 1]\n",
      " [1 1]\n",
      " [1 1]]\n",
      "Shape: (3, 2)\n",
      "Size: 6\n",
      "Dimension: 2\n",
      "Elements type: int32\n"
     ]
    }
   ],
   "source": [
    "import numpy as np\n",
    "myarray7=np.ones([3,2],dtype=int)\n",
    "print(myarray7)\n",
    "print(\"Shape:\",myarray7.shape)\n",
    "print(\"Size:\",myarray7.size)\n",
    "print(\"Dimension:\",myarray7.ndim)\n",
    "print(\"Elements type:\",myarray7.dtype)"
   ]
  },
  {
   "cell_type": "code",
   "execution_count": 46,
   "id": "d44b0de7",
   "metadata": {},
   "outputs": [
    {
     "name": "stdout",
     "output_type": "stream",
     "text": [
      "<class 'numpy.ndarray'>\n",
      "Shape: (5,)\n",
      "Size: 5\n",
      "Dimension: 1\n",
      "Elements type: int32\n"
     ]
    }
   ],
   "source": [
    "import numpy as np\n",
    "myarray8=np.asarray([1,2,3,4,5])\n",
    "myarray8[2]=10\n",
    "print(type(myarray8))\n",
    "print(\"Shape:\",myarray8.shape)\n",
    "print(\"Size:\",myarray8.size)\n",
    "print(\"Dimension:\",myarray8.ndim)\n",
    "print(\"Elements type:\",myarray8.dtype)"
   ]
  },
  {
   "cell_type": "code",
   "execution_count": 49,
   "id": "f084a957",
   "metadata": {},
   "outputs": [
    {
     "name": "stdout",
     "output_type": "stream",
     "text": [
      "Array :  [5 6 7]\n",
      "Asarray :  [ 5 10  7]\n"
     ]
    }
   ],
   "source": [
    "import numpy as np\n",
    "arr = np.array([5,6,7])\n",
    "x = np.array(arr)\n",
    "y = np.asarray(arr)\n",
    "arr[1] = 10\n",
    "print(\"Array : \",x)\n",
    "print(\"Asarray : \",y)"
   ]
  },
  {
   "cell_type": "code",
   "execution_count": 12,
   "id": "cece2c24",
   "metadata": {},
   "outputs": [
    {
     "ename": "SyntaxError",
     "evalue": "invalid syntax. Perhaps you forgot a comma? (3385127409.py, line 4)",
     "output_type": "error",
     "traceback": [
      "\u001b[1;36m  Input \u001b[1;32mIn [12]\u001b[1;36m\u001b[0m\n\u001b[1;33m    arryop(self,ar[]):\u001b[0m\n\u001b[1;37m                ^\u001b[0m\n\u001b[1;31mSyntaxError\u001b[0m\u001b[1;31m:\u001b[0m invalid syntax. Perhaps you forgot a comma?\n"
     ]
    }
   ],
   "source": [
    "import numpy as np\n",
    "myar=np.array([1,2,3,4,30])\n",
    "class myArrayEx:\n",
    "    arryop(self,ar[]):\n",
    "        print(max(self.ar))\n",
    "obj=myArrayEx()\n",
    "obj.arrayop(myar)\n",
    "        "
   ]
  },
  {
   "cell_type": "code",
   "execution_count": null,
   "id": "b514dded",
   "metadata": {},
   "outputs": [],
   "source": []
  }
 ],
 "metadata": {
  "kernelspec": {
   "display_name": "Python 3 (ipykernel)",
   "language": "python",
   "name": "python3"
  },
  "language_info": {
   "codemirror_mode": {
    "name": "ipython",
    "version": 3
   },
   "file_extension": ".py",
   "mimetype": "text/x-python",
   "name": "python",
   "nbconvert_exporter": "python",
   "pygments_lexer": "ipython3",
   "version": "3.10.5"
  }
 },
 "nbformat": 4,
 "nbformat_minor": 5
}
