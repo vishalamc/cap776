{
 "cells": [
  {
   "cell_type": "code",
   "execution_count": 2,
   "id": "f94bd868",
   "metadata": {},
   "outputs": [],
   "source": [
    "import numpy as np"
   ]
  },
  {
   "cell_type": "code",
   "execution_count": 9,
   "id": "ed0e2eda",
   "metadata": {},
   "outputs": [
    {
     "name": "stdout",
     "output_type": "stream",
     "text": [
      "Mean:55.0\n",
      "Median:54.0\n"
     ]
    }
   ],
   "source": [
    "data=np.array([61,48,54,49,61,61,61,49,54,52])\n",
    "print(\"Mean:{}\".format(np.mean(data)))\n",
    "print(\"Median:{}\".format(np.median(data)))\n"
   ]
  },
  {
   "cell_type": "code",
   "execution_count": 18,
   "id": "d77a9939",
   "metadata": {},
   "outputs": [
    {
     "name": "stdout",
     "output_type": "stream",
     "text": [
      "6.4\n",
      "Mean:4.1\n",
      "Median:3.5\n"
     ]
    }
   ],
   "source": [
    "data=np.array([[2,1],[3,2],[5,3],[7,4],[9,5]])\n",
    "print(96/15)\n",
    "print(\"Mean:{}\".format(np.mean(data)))\n",
    "print(\"Median:{}\".format(np.median(data)))\n"
   ]
  },
  {
   "cell_type": "code",
   "execution_count": null,
   "id": "7f68facd",
   "metadata": {},
   "outputs": [],
   "source": []
  }
 ],
 "metadata": {
  "kernelspec": {
   "display_name": "Python 3 (ipykernel)",
   "language": "python",
   "name": "python3"
  },
  "language_info": {
   "codemirror_mode": {
    "name": "ipython",
    "version": 3
   },
   "file_extension": ".py",
   "mimetype": "text/x-python",
   "name": "python",
   "nbconvert_exporter": "python",
   "pygments_lexer": "ipython3",
   "version": "3.10.5"
  }
 },
 "nbformat": 4,
 "nbformat_minor": 5
}
